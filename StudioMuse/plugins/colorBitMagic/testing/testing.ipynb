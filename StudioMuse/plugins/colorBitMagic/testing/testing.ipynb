{
 "cells": [
  {
   "cell_type": "markdown",
   "metadata": {},
   "source": [
    "# Testing"
   ]
  },
  {
   "cell_type": "code",
   "execution_count": 5,
   "metadata": {},
   "outputs": [
    {
     "name": "stdout",
     "output_type": "stream",
     "text": [
      "{'set_name': 'Extra Soft Oil Pastels Vibrant Hues Premium 52pc', 'piece_count': '52', 'colors': ['White', 'Lemon Yellow', 'Yellow', 'Cadmium Yellow', 'Naples Yellow', 'Yellow Ochre', 'Salmon', 'Apricot', 'Tangerine', 'Orange', 'Vermilion', 'Crimson', 'Scarlet', 'Madder Red', 'Burgundy', 'Fuchsia', 'Pink', 'Light Purple', 'Purple', 'Violet', 'Indigo Purple', 'Prussian Blue', 'Ultramarine Blue', 'Royal Blue', 'Turquoise Blue', 'Dusty Teal', 'Sky Blue', 'Aqua Blue', 'Mint', 'Turquoise Green', 'Viridian', 'Phthalo Green', 'Emerald Green', 'Green', 'Chartreuse', 'Terra Verde', 'Khaki', 'Olive Green', 'Dark Olive', 'Sepia', 'Van Dyke Brown', 'Burnt Sienna', 'Red Oxide', 'Taupe', 'Light Grey', 'Grey', 'Dark Grey', 'Black'], 'additional_notes': 'The set includes 4 white pastels.'}\n"
     ]
    }
   ],
   "source": [
    "import json\n",
    "\n",
    "def clean_and_verify_json(response_str):\n",
    "    \"\"\"\n",
    "    Converts a JSON-like string from the LLM into a Python dictionary.\n",
    "\n",
    "    Args:\n",
    "        response_str (str): The response string from the LLM.\n",
    "\n",
    "    Returns:\n",
    "        dict: A dictionary representing the parsed JSON.\n",
    "    \"\"\"\n",
    "    try:\n",
    "        # Replace escaped newlines and unnecessary backslashes\n",
    "        cleaned_str = response_str.replace('\\\\n', '').replace('\\\\\"', '\"')\n",
    "        \n",
    "        # Load as JSON\n",
    "        json_data = json.loads(cleaned_str)\n",
    "        return json_data\n",
    "\n",
    "    except json.JSONDecodeError as e:\n",
    "        print(f\"Failed to parse JSON: {e}\")\n",
    "        return {}\n",
    "\n",
    "# Example usage\n",
    "response_str = '{\\\\n  \"set_name\": \"Extra Soft Oil Pastels Vibrant Hues Premium 52pc\",\\\\n  \"piece_count\": \"52\",\\\\n  \"colors\": [\\\\n    \"White\",\\\\n    \"Lemon Yellow\",\\\\n    \"Yellow\",\\\\n    \"Cadmium Yellow\",\\\\n    \"Naples Yellow\",\\\\n    \"Yellow Ochre\",\\\\n    \"Salmon\",\\\\n    \"Apricot\",\\\\n    \"Tangerine\",\\\\n    \"Orange\",\\\\n    \"Vermilion\",\\\\n    \"Crimson\",\\\\n    \"Scarlet\",\\\\n    \"Madder Red\",\\\\n    \"Burgundy\",\\\\n    \"Fuchsia\",\\\\n    \"Pink\",\\\\n    \"Light Purple\",\\\\n    \"Purple\",\\\\n    \"Violet\",\\\\n    \"Indigo Purple\",\\\\n    \"Prussian Blue\",\\\\n    \"Ultramarine Blue\",\\\\n    \"Royal Blue\",\\\\n    \"Turquoise Blue\",\\\\n    \"Dusty Teal\",\\\\n    \"Sky Blue\",\\\\n    \"Aqua Blue\",\\\\n    \"Mint\",\\\\n    \"Turquoise Green\",\\\\n    \"Viridian\",\\\\n    \"Phthalo Green\",\\\\n    \"Emerald Green\",\\\\n    \"Green\",\\\\n    \"Chartreuse\",\\\\n    \"Terra Verde\",\\\\n    \"Khaki\",\\\\n    \"Olive Green\",\\\\n    \"Dark Olive\",\\\\n    \"Sepia\",\\\\n    \"Van Dyke Brown\",\\\\n    \"Burnt Sienna\",\\\\n    \"Red Oxide\",\\\\n    \"Taupe\",\\\\n    \"Light Grey\",\\\\n    \"Grey\",\\\\n    \"Dark Grey\",\\\\n    \"Black\"\\\\n  ],\\\\n  \"additional_notes\": \"The set includes 4 white pastels.\"\\\\n}'\n",
    "\n",
    "parsed_data = clean_and_verify_json(response_str)\n",
    "print(parsed_data)\n",
    "\n"
   ]
  }
 ],
 "metadata": {
  "kernelspec": {
   "display_name": "Python 3",
   "language": "python",
   "name": "python3"
  },
  "language_info": {
   "codemirror_mode": {
    "name": "ipython",
    "version": 3
   },
   "file_extension": ".py",
   "mimetype": "text/x-python",
   "name": "python",
   "nbconvert_exporter": "python",
   "pygments_lexer": "ipython3",
   "version": "3.10.16"
  }
 },
 "nbformat": 4,
 "nbformat_minor": 2
}
